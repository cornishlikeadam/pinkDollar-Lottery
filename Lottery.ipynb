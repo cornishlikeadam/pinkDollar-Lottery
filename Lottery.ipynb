{
 "cells": [
  {
   "cell_type": "code",
   "execution_count": 2,
   "id": "311e6d9f-bfd7-4c68-a02c-751025cfc968",
   "metadata": {},
   "outputs": [
    {
     "ename": "SyntaxError",
     "evalue": "invalid syntax (3149067868.py, line 1)",
     "output_type": "error",
     "traceback": [
      "\u001b[0;36m  Input \u001b[0;32mIn [2]\u001b[0;36m\u001b[0m\n\u001b[0;31m    pragma solidity ^0.5.0;\u001b[0m\n\u001b[0m           ^\u001b[0m\n\u001b[0;31mSyntaxError\u001b[0m\u001b[0;31m:\u001b[0m invalid syntax\n"
     ]
    }
   ],
   "source": [
    "\n",
    "pragma solidity ^0.5.0;\n",
    "\n",
    "contract lottery {\n",
    "    address public owner;\n",
    "    address public winner;\n",
    "    address payable [] public players;\n",
    "    constructor()public{\n",
    "        owner = msg.sender;\n",
    "    }\n",
    "\n",
    "    modifier onlyOwner () {\n",
    "        require(msg.sender == owner);\n",
    "        _;\n",
    "    }\n",
    "\n",
    "\n",
    "    //enter the lottery\n",
    "    function enter() public payable {\n",
    "        require(msg.value == 1 ether, \"insufficient funds\");\n",
    "        players.push((msg.sender));\n",
    "    }\n",
    "\n",
    "    //Getting a random number\n",
    "    function random() public view returns(uint8){\n",
    "        return uint8(uint256(keccak256(abi.encodePacked(block.timestamp, block.difficulty, players)))%251);\n",
    "    }\n",
    "\n",
    "    //Picking winner using random function\n",
    "    function pickWinner() public onlyOwner{\n",
    "        uint256 index = random() % players.length;\n",
    "\n",
    "        //Transfer rewards too winner\n",
    "        players[index].transfer(address(this).balance);\n",
    "        winner = players[index];\n",
    "\n",
    "        //reset the state\n",
    "        players = new address payable[](0);\n",
    "    }\n",
    "\n",
    "    \n"
   ]
  },
  {
   "cell_type": "code",
   "execution_count": null,
   "id": "49436b92-0e46-4da7-b921-ff3991f39674",
   "metadata": {},
   "outputs": [],
   "source": []
  }
 ],
 "metadata": {
  "kernelspec": {
   "display_name": "Python 3 (ipykernel)",
   "language": "python",
   "name": "python3"
  },
  "language_info": {
   "codemirror_mode": {
    "name": "ipython",
    "version": 3
   },
   "file_extension": ".py",
   "mimetype": "text/x-python",
   "name": "python",
   "nbconvert_exporter": "python",
   "pygments_lexer": "ipython3",
   "version": "3.9.12"
  }
 },
 "nbformat": 4,
 "nbformat_minor": 5
}
